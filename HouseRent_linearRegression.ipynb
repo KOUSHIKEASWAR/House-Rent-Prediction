{
 "cells": [
  {
   "cell_type": "code",
   "execution_count": 2,
   "metadata": {},
   "outputs": [
    {
     "data": {
      "text/html": [
       "<div>\n",
       "<style scoped>\n",
       "    .dataframe tbody tr th:only-of-type {\n",
       "        vertical-align: middle;\n",
       "    }\n",
       "\n",
       "    .dataframe tbody tr th {\n",
       "        vertical-align: top;\n",
       "    }\n",
       "\n",
       "    .dataframe thead th {\n",
       "        text-align: right;\n",
       "    }\n",
       "</style>\n",
       "<table border=\"1\" class=\"dataframe\">\n",
       "  <thead>\n",
       "    <tr style=\"text-align: right;\">\n",
       "      <th></th>\n",
       "      <th>LotArea</th>\n",
       "      <th>SalePrice</th>\n",
       "    </tr>\n",
       "  </thead>\n",
       "  <tbody>\n",
       "    <tr>\n",
       "      <td>0</td>\n",
       "      <td>8450</td>\n",
       "      <td>208500</td>\n",
       "    </tr>\n",
       "    <tr>\n",
       "      <td>1</td>\n",
       "      <td>9600</td>\n",
       "      <td>181500</td>\n",
       "    </tr>\n",
       "    <tr>\n",
       "      <td>2</td>\n",
       "      <td>11250</td>\n",
       "      <td>223500</td>\n",
       "    </tr>\n",
       "    <tr>\n",
       "      <td>3</td>\n",
       "      <td>9550</td>\n",
       "      <td>140000</td>\n",
       "    </tr>\n",
       "    <tr>\n",
       "      <td>4</td>\n",
       "      <td>14260</td>\n",
       "      <td>250000</td>\n",
       "    </tr>\n",
       "  </tbody>\n",
       "</table>\n",
       "</div>"
      ],
      "text/plain": [
       "   LotArea  SalePrice\n",
       "0     8450     208500\n",
       "1     9600     181500\n",
       "2    11250     223500\n",
       "3     9550     140000\n",
       "4    14260     250000"
      ]
     },
     "execution_count": 2,
     "metadata": {},
     "output_type": "execute_result"
    }
   ],
   "source": [
    "import pandas as pd\n",
    "import numpy as np\n",
    "import matplotlib.pyplot as plt\n",
    "import seaborn as sb\n",
    "rent=pd.read_csv(\"Desktop\\Hrent.csv\")\n",
    "rent.head()"
   ]
  },
  {
   "cell_type": "code",
   "execution_count": 4,
   "metadata": {},
   "outputs": [
    {
     "data": {
      "text/plain": [
       "LotArea      0\n",
       "SalePrice    0\n",
       "dtype: int64"
      ]
     },
     "execution_count": 4,
     "metadata": {},
     "output_type": "execute_result"
    }
   ],
   "source": [
    "rent.isnull().sum()"
   ]
  },
  {
   "cell_type": "code",
   "execution_count": 82,
   "metadata": {},
   "outputs": [],
   "source": [
    "X=rent.loc[:,['LotArea']]\n",
    "y=rent.SalePrice"
   ]
  },
  {
   "cell_type": "code",
   "execution_count": 83,
   "metadata": {},
   "outputs": [],
   "source": [
    "from sklearn.model_selection import train_test_split\n",
    "X_train , X_test , y_train , y_test = train_test_split(X,y,test_size=0.20,random_state=1000)"
   ]
  },
  {
   "cell_type": "code",
   "execution_count": 84,
   "metadata": {},
   "outputs": [],
   "source": [
    "from sklearn.linear_model import LinearRegression"
   ]
  },
  {
   "cell_type": "code",
   "execution_count": 85,
   "metadata": {},
   "outputs": [],
   "source": [
    "model=LinearRegression()"
   ]
  },
  {
   "cell_type": "code",
   "execution_count": 86,
   "metadata": {},
   "outputs": [
    {
     "name": "stdout",
     "output_type": "stream",
     "text": [
      "X_train shape (1060, 1)\n",
      "X_test shape (266, 1)\n",
      "y_train shape (1060,)\n",
      "y_test shape (266,)\n"
     ]
    }
   ],
   "source": [
    "print(\"X_train shape\", X_train.shape)\n",
    "print(\"X_test shape\", X_test.shape)\n",
    "print(\"y_train shape\", y_train.shape)\n",
    "print(\"y_test shape\", y_test.shape)"
   ]
  },
  {
   "cell_type": "code",
   "execution_count": 87,
   "metadata": {},
   "outputs": [
    {
     "data": {
      "text/plain": [
       "LinearRegression(copy_X=True, fit_intercept=True, n_jobs=None, normalize=False)"
      ]
     },
     "execution_count": 87,
     "metadata": {},
     "output_type": "execute_result"
    }
   ],
   "source": [
    "model.fit(X_train,y_train)"
   ]
  },
  {
   "cell_type": "code",
   "execution_count": 88,
   "metadata": {},
   "outputs": [],
   "source": [
    "y_predict=model.predict(X_test)"
   ]
  },
  {
   "cell_type": "code",
   "execution_count": 89,
   "metadata": {},
   "outputs": [],
   "source": [
    "from sklearn.metrics import r2_score, accuracy_score\n",
    "from sklearn import metrics"
   ]
  },
  {
   "cell_type": "code",
   "execution_count": 90,
   "metadata": {},
   "outputs": [
    {
     "data": {
      "text/plain": [
       "0.18496573835931907"
      ]
     },
     "execution_count": 90,
     "metadata": {},
     "output_type": "execute_result"
    }
   ],
   "source": [
    "r2_score(y_test,y_predict)"
   ]
  },
  {
   "cell_type": "code",
   "execution_count": 91,
   "metadata": {},
   "outputs": [
    {
     "data": {
      "text/plain": [
       "1098    200000\n",
       "1061    194000\n",
       "873     272000\n",
       "1134    186500\n",
       "1189    179200\n",
       "         ...  \n",
       "1159    162000\n",
       "890     110000\n",
       "625     141000\n",
       "1236    189000\n",
       "1103    113000\n",
       "Name: SalePrice, Length: 266, dtype: int64"
      ]
     },
     "execution_count": 91,
     "metadata": {},
     "output_type": "execute_result"
    }
   ],
   "source": [
    "y_test"
   ]
  },
  {
   "cell_type": "code",
   "execution_count": 92,
   "metadata": {},
   "outputs": [
    {
     "data": {
      "text/plain": [
       "array([168006.22364381, 216518.03679912, 189367.4492599 , 161028.5917317 ,\n",
       "       154313.48458459, 172731.66941399, 160600.26185194, 181581.51741342,\n",
       "       151612.24292357, 159301.45511979, 158783.31413621, 146347.93053047,\n",
       "       190161.93210138, 195571.32396988, 184524.55820011, 172324.06517358,\n",
       "       202410.78495304, 180849.21148997, 152772.87872677, 153601.90430049,\n",
       "       150679.58915314, 220752.97577152, 190673.16453851, 173104.73092217,\n",
       "       168455.27916291, 157332.51938221, 154140.7709234 , 161028.5917317 ,\n",
       "       157332.51938221, 146347.93053047, 177104.77931535, 171135.79518459,\n",
       "       178472.67151198, 189477.98600307, 163425.85734903, 153670.98976496,\n",
       "       173153.0907473 , 159591.61407059, 171218.69774196, 202935.83448306,\n",
       "       146347.93053047, 160165.02342574, 196669.78285506, 177643.64593826,\n",
       "       116503.00987667, 150493.05839905, 165215.17087896, 173982.11632102,\n",
       "       166375.80668217, 171564.12506434, 154997.43068291, 183426.09931494,\n",
       "       178666.11081251, 199509.19544504, 176296.47938097, 183895.88047338,\n",
       "       175419.09398212, 175239.47177449, 184047.86849522, 121256.08983265,\n",
       "       175191.11194935, 153822.97778681, 192876.9908553 , 203412.52418795,\n",
       "       175978.68624438, 169491.56113005, 167211.74080233, 182617.79938056,\n",
       "       168248.02276948, 161629.63527264, 185035.79063724, 154292.75894525,\n",
       "       158783.31413621, 190984.04912865, 148911.00126254, 163619.29664956,\n",
       "       188904.57664791, 167653.88777498, 178299.95785079, 152945.59238796,\n",
       "       169560.64659453, 138886.70036702, 152275.46338254, 164047.62652931,\n",
       "       182382.90880134, 201657.75339025, 193346.77201374, 163239.32659494,\n",
       "       159045.83890122, 166037.28790623, 178320.68349013, 164918.10338172,\n",
       "       156952.54932759, 158783.31413621, 127805.39186501, 164586.49315223,\n",
       "       182099.65839699, 141719.20441055, 219302.18101752, 169664.27479124,\n",
       "       153905.88034418, 135536.05533991, 188904.57664791, 130347.73695774,\n",
       "       178873.36720594, 146347.93053047, 158092.45949145, 182610.89083412,\n",
       "       135536.05533991, 161477.64725079, 142202.80266188, 141719.20441055,\n",
       "       162196.13608135, 134465.23064053, 198576.54167461, 176980.42547929,\n",
       "       218832.39985908, 205567.99067961, 180828.48585062, 199405.56724832,\n",
       "       156158.06648611, 145829.78954689, 151612.24292357, 150493.05839905,\n",
       "       174845.68462697, 152641.61634426, 165802.39732701, 161864.52585186,\n",
       "       166009.65372044, 183812.977916  , 180876.84567576, 148005.9816779 ,\n",
       "       184925.25389407, 156710.75020192, 168779.98084595, 178963.17830976,\n",
       "       163923.27269326, 182617.79938056, 186168.79225465, 177864.71942459,\n",
       "       184172.22233128, 169712.63461638, 180407.06451732, 206880.61450467,\n",
       "       183833.70355535, 139867.71396258, 181996.03020028, 154638.18626763,\n",
       "       156710.75020192, 206341.74788175, 182320.73188331, 142202.80266188,\n",
       "       129076.56441137, 191343.29354393, 123211.20847733, 189056.56466976,\n",
       "       116503.00987667, 162928.4420048 , 185726.645282  , 167764.42451814,\n",
       "       176607.36397112, 172254.97970911, 160607.17039839, 178147.96982894,\n",
       "       168317.10823395, 162928.4420048 , 182873.41559913, 192220.67894278,\n",
       "       168703.98683502, 195806.2145491 , 182161.83531502, 211177.7303951 ,\n",
       "       185332.85813448, 135985.11085901, 166921.58185153, 156061.34683584,\n",
       "       185146.3273804 , 139439.38408283, 117808.72515528, 145138.93490213,\n",
       "       180911.388408  , 187108.35457153, 160634.80458418, 179370.78255017,\n",
       "       159301.45511979, 173429.43260521, 151612.24292357, 116503.00987667,\n",
       "       171218.69774196, 163923.27269326, 147176.95610418, 135536.05533991,\n",
       "       178514.12279067, 167764.42451814, 135536.05533991, 161546.73271527,\n",
       "       166223.81866032, 147176.95610418, 175826.69822254, 171218.69774196,\n",
       "       184192.94797062, 161014.7746388 , 168006.22364381, 154500.01533868,\n",
       "       167653.88777498, 190161.93210138, 165415.51872595, 169491.56113005,\n",
       "       144855.68449778, 165532.96401556, 158748.77140398, 162334.3070103 ,\n",
       "       153111.3975027 , 161028.5917317 , 132945.35042205, 173982.11632102,\n",
       "       184711.0889542 , 177436.38954483, 188420.97839658, 151736.59675962,\n",
       "       153380.83081416, 147176.95610418, 137166.47230156, 172199.71133753,\n",
       "       182617.79938056, 222639.00895173, 165629.68366582, 116503.00987667,\n",
       "       132282.12996308, 153643.35557917, 136475.61765679, 179508.95347913,\n",
       "       176883.70582902, 154638.18626763, 169125.40816833, 167902.5954471 ,\n",
       "       211467.8893459 , 160165.02342574, 220055.21258031, 172980.37708611,\n",
       "       144897.13577646, 132648.2829248 , 180386.33887798, 175681.61874714,\n",
       "       116503.00987667, 167363.72882418, 198162.02888775, 188006.46560972,\n",
       "       172324.06517358, 173001.10272545, 173546.87789482, 173982.11632102,\n",
       "       142202.80266188, 167488.08266024, 167902.5954471 , 162928.4420048 ,\n",
       "       185685.19400331, 179246.42871412, 177408.75535904, 165380.97599371,\n",
       "       136731.23387536, 194265.60869128, 170182.41577482, 135473.87842189,\n",
       "       172890.56598229, 169422.47566558])"
      ]
     },
     "execution_count": 92,
     "metadata": {},
     "output_type": "execute_result"
    }
   ],
   "source": [
    "y_predict"
   ]
  },
  {
   "cell_type": "code",
   "execution_count": 93,
   "metadata": {},
   "outputs": [],
   "source": [
    "sample=rent.head(10)"
   ]
  },
  {
   "cell_type": "code",
   "execution_count": 94,
   "metadata": {},
   "outputs": [
    {
     "data": {
      "text/html": [
       "<div>\n",
       "<style scoped>\n",
       "    .dataframe tbody tr th:only-of-type {\n",
       "        vertical-align: middle;\n",
       "    }\n",
       "\n",
       "    .dataframe tbody tr th {\n",
       "        vertical-align: top;\n",
       "    }\n",
       "\n",
       "    .dataframe thead th {\n",
       "        text-align: right;\n",
       "    }\n",
       "</style>\n",
       "<table border=\"1\" class=\"dataframe\">\n",
       "  <thead>\n",
       "    <tr style=\"text-align: right;\">\n",
       "      <th></th>\n",
       "      <th>LotArea</th>\n",
       "      <th>SalePrice</th>\n",
       "    </tr>\n",
       "  </thead>\n",
       "  <tbody>\n",
       "    <tr>\n",
       "      <td>0</td>\n",
       "      <td>8450</td>\n",
       "      <td>208500</td>\n",
       "    </tr>\n",
       "    <tr>\n",
       "      <td>1</td>\n",
       "      <td>9600</td>\n",
       "      <td>181500</td>\n",
       "    </tr>\n",
       "    <tr>\n",
       "      <td>2</td>\n",
       "      <td>11250</td>\n",
       "      <td>223500</td>\n",
       "    </tr>\n",
       "    <tr>\n",
       "      <td>3</td>\n",
       "      <td>9550</td>\n",
       "      <td>140000</td>\n",
       "    </tr>\n",
       "    <tr>\n",
       "      <td>4</td>\n",
       "      <td>14260</td>\n",
       "      <td>250000</td>\n",
       "    </tr>\n",
       "    <tr>\n",
       "      <td>5</td>\n",
       "      <td>14115</td>\n",
       "      <td>143000</td>\n",
       "    </tr>\n",
       "    <tr>\n",
       "      <td>6</td>\n",
       "      <td>10084</td>\n",
       "      <td>307000</td>\n",
       "    </tr>\n",
       "    <tr>\n",
       "      <td>7</td>\n",
       "      <td>10382</td>\n",
       "      <td>200000</td>\n",
       "    </tr>\n",
       "    <tr>\n",
       "      <td>8</td>\n",
       "      <td>6120</td>\n",
       "      <td>129900</td>\n",
       "    </tr>\n",
       "    <tr>\n",
       "      <td>9</td>\n",
       "      <td>7420</td>\n",
       "      <td>118000</td>\n",
       "    </tr>\n",
       "  </tbody>\n",
       "</table>\n",
       "</div>"
      ],
      "text/plain": [
       "   LotArea  SalePrice\n",
       "0     8450     208500\n",
       "1     9600     181500\n",
       "2    11250     223500\n",
       "3     9550     140000\n",
       "4    14260     250000\n",
       "5    14115     143000\n",
       "6    10084     307000\n",
       "7    10382     200000\n",
       "8     6120     129900\n",
       "9     7420     118000"
      ]
     },
     "execution_count": 94,
     "metadata": {},
     "output_type": "execute_result"
    }
   ],
   "source": [
    "sample"
   ]
  },
  {
   "cell_type": "code",
   "execution_count": 102,
   "metadata": {},
   "outputs": [
    {
     "data": {
      "text/plain": [
       "<matplotlib.axes._subplots.AxesSubplot at 0x21eccc30188>"
      ]
     },
     "execution_count": 102,
     "metadata": {},
     "output_type": "execute_result"
    },
    {
     "data": {
      "image/png": "[encoded data removed]",
      "text/plain": [
       "<Figure size 720x360 with 1 Axes>"
      ]
     },
     "metadata": {
      "needs_background": "light"
     },
     "output_type": "display_data"
    }
   ],
   "source": [
    "rent.boxplot(figsize=(10,5))"
   ]
  },
  {
   "cell_type": "code",
   "execution_count": 103,
   "metadata": {},
   "outputs": [
    {
     "data": {
      "text/plain": [
       "<matplotlib.collections.PathCollection at 0x21ecc50e7c8>"
      ]
     },
     "execution_count": 103,
     "metadata": {},
     "output_type": "execute_result"
    },
    {
     "data": {
      "image/png": "[encoded data removed]",
      "text/plain": [
       "<Figure size 432x288 with 1 Axes>"
      ]
     },
     "metadata": {
      "needs_background": "light"
     },
     "output_type": "display_data"
    }
   ],
   "source": [
    "plt.scatter(y_test,X_test)"
   ]
  },
  {
   "cell_type": "code",
   "execution_count": 104,
   "metadata": {},
   "outputs": [
    {
     "data": {
      "text/plain": [
       "<matplotlib.axes._subplots.AxesSubplot at 0x21ecc55a808>"
      ]
     },
     "execution_count": 104,
     "metadata": {},
     "output_type": "execute_result"
    },
    {
     "data": {
      "image/png": "[encoded data removed]",
      "text/plain": [
       "<Figure size 432x288 with 1 Axes>"
      ]
     },
     "metadata": {
      "needs_background": "light"
     },
     "output_type": "display_data"
    }
   ],
   "source": [
    "rent.LotArea.plot(kind=\"box\")"
   ]
  },
  {
   "cell_type": "code",
   "execution_count": 105,
   "metadata": {},
   "outputs": [
    {
     "data": {
      "text/html": [
       "<div>\n",
       "<style scoped>\n",
       "    .dataframe tbody tr th:only-of-type {\n",
       "        vertical-align: middle;\n",
       "    }\n",
       "\n",
       "    .dataframe tbody tr th {\n",
       "        vertical-align: top;\n",
       "    }\n",
       "\n",
       "    .dataframe thead th {\n",
       "        text-align: right;\n",
       "    }\n",
       "</style>\n",
       "<table border=\"1\" class=\"dataframe\">\n",
       "  <thead>\n",
       "    <tr style=\"text-align: right;\">\n",
       "      <th></th>\n",
       "      <th>LotArea</th>\n",
       "      <th>SalePrice</th>\n",
       "    </tr>\n",
       "  </thead>\n",
       "  <tbody>\n",
       "    <tr>\n",
       "      <td>1302</td>\n",
       "      <td>17400</td>\n",
       "      <td>160000</td>\n",
       "    </tr>\n",
       "  </tbody>\n",
       "</table>\n",
       "</div>"
      ],
      "text/plain": [
       "      LotArea  SalePrice\n",
       "1302    17400     160000"
      ]
     },
     "execution_count": 105,
     "metadata": {},
     "output_type": "execute_result"
    }
   ],
   "source": [
    "rent[rent.LotArea==rent.LotArea.max()]"
   ]
  },
  {
   "cell_type": "code",
   "execution_count": 155,
   "metadata": {},
   "outputs": [
    {
     "data": {
      "text/html": [
       "<div>\n",
       "<style scoped>\n",
       "    .dataframe tbody tr th:only-of-type {\n",
       "        vertical-align: middle;\n",
       "    }\n",
       "\n",
       "    .dataframe tbody tr th {\n",
       "        vertical-align: top;\n",
       "    }\n",
       "\n",
       "    .dataframe thead th {\n",
       "        text-align: right;\n",
       "    }\n",
       "</style>\n",
       "<table border=\"1\" class=\"dataframe\">\n",
       "  <thead>\n",
       "    <tr style=\"text-align: right;\">\n",
       "      <th></th>\n",
       "      <th>LotArea</th>\n",
       "      <th>SalePrice</th>\n",
       "    </tr>\n",
       "  </thead>\n",
       "  <tbody>\n",
       "    <tr>\n",
       "      <td>868</td>\n",
       "      <td>1300</td>\n",
       "      <td>124000</td>\n",
       "    </tr>\n",
       "  </tbody>\n",
       "</table>\n",
       "</div>"
      ],
      "text/plain": [
       "     LotArea  SalePrice\n",
       "868     1300     124000"
      ]
     },
     "execution_count": 155,
     "metadata": {},
     "output_type": "execute_result"
    }
   ],
   "source": [
    "rent[rent.LotArea==rent.LotArea.min()]"
   ]
  },
  {
   "cell_type": "code",
   "execution_count": 156,
   "metadata": {},
   "outputs": [],
   "source": [
    "q1=rent.LotArea.quantile(0.25)"
   ]
  },
  {
   "cell_type": "code",
   "execution_count": 157,
   "metadata": {},
   "outputs": [
    {
     "data": {
      "text/plain": [
       "7253.75"
      ]
     },
     "execution_count": 157,
     "metadata": {},
     "output_type": "execute_result"
    }
   ],
   "source": [
    "q1"
   ]
  },
  {
   "cell_type": "code",
   "execution_count": 158,
   "metadata": {},
   "outputs": [],
   "source": [
    "q3=rent.LotArea.quantile(0.75)"
   ]
  },
  {
   "cell_type": "code",
   "execution_count": 159,
   "metadata": {},
   "outputs": [
    {
     "data": {
      "text/plain": [
       "10963.5"
      ]
     },
     "execution_count": 159,
     "metadata": {},
     "output_type": "execute_result"
    }
   ],
   "source": [
    "q3"
   ]
  },
  {
   "cell_type": "code",
   "execution_count": 160,
   "metadata": {},
   "outputs": [],
   "source": [
    "IQR=q3-q1"
   ]
  },
  {
   "cell_type": "code",
   "execution_count": 161,
   "metadata": {},
   "outputs": [
    {
     "data": {
      "text/plain": [
       "3709.75"
      ]
     },
     "execution_count": 161,
     "metadata": {},
     "output_type": "execute_result"
    }
   ],
   "source": [
    "IQR"
   ]
  },
  {
   "cell_type": "code",
   "execution_count": 162,
   "metadata": {},
   "outputs": [],
   "source": [
    "minarea=q1-1.5*IQR\n",
    "maxarea=q3+1.5*IQR"
   ]
  },
  {
   "cell_type": "code",
   "execution_count": 163,
   "metadata": {},
   "outputs": [
    {
     "name": "stdout",
     "output_type": "stream",
     "text": [
      "1689.125\n",
      "16528.125\n"
     ]
    }
   ],
   "source": [
    "print(minarea)\n",
    "print(maxarea)"
   ]
  },
  {
   "cell_type": "code",
   "execution_count": 186,
   "metadata": {},
   "outputs": [
    {
     "data": {
      "text/plain": [
       "count     1294.000000\n",
       "mean      9083.908810\n",
       "std       2920.896116\n",
       "min       1869.000000\n",
       "25%       7388.500000\n",
       "50%       9132.500000\n",
       "75%      10899.000000\n",
       "max      16492.000000\n",
       "Name: LotArea, dtype: float64"
      ]
     },
     "execution_count": 186,
     "metadata": {},
     "output_type": "execute_result"
    }
   ],
   "source": [
    "index = rent[(rent['LotArea'] >= maxarea)|(rent['LotArea'] <= minarea)].index\n",
    "rent.drop(index, inplace=True)\n",
    "rent['LotArea'].describe()"
   ]
  },
  {
   "cell_type": "code",
   "execution_count": 187,
   "metadata": {},
   "outputs": [
    {
     "name": "stdout",
     "output_type": "stream",
     "text": [
      "(0, 2)\n"
     ]
    }
   ],
   "source": [
    "rent_out = rent[~((rent < (q1 - 1.5 * IQR)) |(rent > (q3 + 1.5 * IQR))).any(axis=1)]\n",
    "print(rent_out.shape)"
   ]
  },
  {
   "cell_type": "code",
   "execution_count": 189,
   "metadata": {},
   "outputs": [
    {
     "data": {
      "text/html": [
       "<div>\n",
       "<style scoped>\n",
       "    .dataframe tbody tr th:only-of-type {\n",
       "        vertical-align: middle;\n",
       "    }\n",
       "\n",
       "    .dataframe tbody tr th {\n",
       "        vertical-align: top;\n",
       "    }\n",
       "\n",
       "    .dataframe thead th {\n",
       "        text-align: right;\n",
       "    }\n",
       "</style>\n",
       "<table border=\"1\" class=\"dataframe\">\n",
       "  <thead>\n",
       "    <tr style=\"text-align: right;\">\n",
       "      <th></th>\n",
       "      <th>LotArea</th>\n",
       "      <th>SalePrice</th>\n",
       "    </tr>\n",
       "  </thead>\n",
       "  <tbody>\n",
       "    <tr>\n",
       "      <td>count</td>\n",
       "      <td>1294.000000</td>\n",
       "      <td>1294.000000</td>\n",
       "    </tr>\n",
       "    <tr>\n",
       "      <td>mean</td>\n",
       "      <td>9083.908810</td>\n",
       "      <td>168033.784389</td>\n",
       "    </tr>\n",
       "    <tr>\n",
       "      <td>std</td>\n",
       "      <td>2920.896116</td>\n",
       "      <td>56931.999558</td>\n",
       "    </tr>\n",
       "    <tr>\n",
       "      <td>min</td>\n",
       "      <td>1869.000000</td>\n",
       "      <td>34900.000000</td>\n",
       "    </tr>\n",
       "    <tr>\n",
       "      <td>25%</td>\n",
       "      <td>7388.500000</td>\n",
       "      <td>128600.000000</td>\n",
       "    </tr>\n",
       "    <tr>\n",
       "      <td>50%</td>\n",
       "      <td>9132.500000</td>\n",
       "      <td>157000.000000</td>\n",
       "    </tr>\n",
       "    <tr>\n",
       "      <td>75%</td>\n",
       "      <td>10899.000000</td>\n",
       "      <td>200000.000000</td>\n",
       "    </tr>\n",
       "    <tr>\n",
       "      <td>max</td>\n",
       "      <td>16492.000000</td>\n",
       "      <td>326000.000000</td>\n",
       "    </tr>\n",
       "  </tbody>\n",
       "</table>\n",
       "</div>"
      ],
      "text/plain": [
       "            LotArea      SalePrice\n",
       "count   1294.000000    1294.000000\n",
       "mean    9083.908810  168033.784389\n",
       "std     2920.896116   56931.999558\n",
       "min     1869.000000   34900.000000\n",
       "25%     7388.500000  128600.000000\n",
       "50%     9132.500000  157000.000000\n",
       "75%    10899.000000  200000.000000\n",
       "max    16492.000000  326000.000000"
      ]
     },
     "execution_count": 189,
     "metadata": {},
     "output_type": "execute_result"
    }
   ],
   "source": [
    "rent.describe()"
   ]
  },
  {
   "cell_type": "code",
   "execution_count": 190,
   "metadata": {},
   "outputs": [],
   "source": [
    "X=rent.loc[:,['LotArea']]\n",
    "y=rent.SalePrice"
   ]
  },
  {
   "cell_type": "code",
   "execution_count": 191,
   "metadata": {},
   "outputs": [],
   "source": [
    "X_train,X_test,y_train,y_test=train_test_split(X,y,test_size=0.20,random_state=1000)"
   ]
  },
  {
   "cell_type": "code",
   "execution_count": 192,
   "metadata": {},
   "outputs": [],
   "source": [
    "model=LinearRegression()"
   ]
  },
  {
   "cell_type": "code",
   "execution_count": 193,
   "metadata": {},
   "outputs": [
    {
     "data": {
      "text/plain": [
       "LinearRegression(copy_X=True, fit_intercept=True, n_jobs=None, normalize=False)"
      ]
     },
     "execution_count": 193,
     "metadata": {},
     "output_type": "execute_result"
    }
   ],
   "source": [
    "model.fit(X_train,y_train)"
   ]
  },
  {
   "cell_type": "code",
   "execution_count": 194,
   "metadata": {},
   "outputs": [],
   "source": [
    "y_predict=model.predict(X_test)"
   ]
  },
  {
   "cell_type": "code",
   "execution_count": 197,
   "metadata": {},
   "outputs": [
    {
     "data": {
      "text/plain": [
       "0.17528635146642957"
      ]
     },
     "execution_count": 197,
     "metadata": {},
     "output_type": "execute_result"
    }
   ],
   "source": [
    "r2_score(y_test,y_predict)"
   ]
  },
  {
   "cell_type": "code",
   "execution_count": 198,
   "metadata": {},
   "outputs": [
    {
     "data": {
      "text/plain": [
       "967     167900\n",
       "681     217000\n",
       "642     102776\n",
       "465     202665\n",
       "411     204000\n",
       "         ...  \n",
       "112     320000\n",
       "35      145000\n",
       "107     180000\n",
       "715     187500\n",
       "1188    147000\n",
       "Name: SalePrice, Length: 259, dtype: int64"
      ]
     },
     "execution_count": 198,
     "metadata": {},
     "output_type": "execute_result"
    }
   ],
   "source": [
    "y_test"
   ]
  },
  {
   "cell_type": "code",
   "execution_count": 199,
   "metadata": {},
   "outputs": [
    {
     "data": {
      "text/plain": [
       "array([171452.69068652, 167883.48755767, 164314.28442882, 151236.2882315 ,\n",
       "       168339.85513331, 145841.61480011, 165540.34657232, 172992.07982225,\n",
       "       171854.56661134, 160315.95954974, 167978.84794661, 152775.67736723,\n",
       "       136108.043672  , 145841.61480011, 172406.29457591, 172270.06544885,\n",
       "       198255.77143467, 144574.68391849, 172542.52370297, 153565.80630415,\n",
       "       153089.00435946, 170049.53067785, 166957.12949369, 162189.11004676,\n",
       "       190170.57274393, 191069.6849825 , 192159.51799894, 149928.48861177,\n",
       "       149928.48861177, 177337.78897531, 131687.40849905, 183304.62474034,\n",
       "       160315.95954974, 165833.23919549, 182242.03754931, 151031.94454092,\n",
       "       159123.95468801, 122989.17873657, 202104.24427398, 158102.23623509,\n",
       "       205653.01303378, 155479.82553928, 160281.90226798, 173135.12040566,\n",
       "       157761.66341746, 178536.6052934 , 194373.24131359, 167910.73338308,\n",
       "       135181.68560802, 117703.48860682, 173809.45458458, 162529.68286439,\n",
       "       163169.95976155, 174626.82934691, 171384.57612299, 151951.49114854,\n",
       "       170444.59514631, 160574.79489115, 140733.02253553, 160315.95954974,\n",
       "       170621.69301148, 213036.63172018, 118255.21657139, 162189.11004676,\n",
       "       174722.18973585, 177705.60761836, 176043.61226829, 211245.2186994 ,\n",
       "       147830.56005512, 164573.11977022, 166562.06502523, 164573.11977022,\n",
       "       139030.15844734, 154015.36242343, 214180.95638744, 182650.72493047,\n",
       "       154015.36242343, 181499.58880686, 169000.56639952, 162529.68286439,\n",
       "       183304.62474034, 177344.60043167, 165751.50171925, 135624.43027095,\n",
       "       154015.36242343, 156331.25758337, 145841.61480011, 145841.61480011,\n",
       "       122628.17154987, 151031.94454092, 170172.1368922 , 164913.69258786,\n",
       "       180375.69850865, 165404.11744526, 117846.52919023, 156058.79932926,\n",
       "       154015.36242343, 179885.27365125, 189394.06671972, 131687.40849905,\n",
       "       188236.11913975, 154015.36242343, 180341.64122689, 182357.83230731,\n",
       "       161140.14576843, 167352.19396215, 170362.85767008, 153695.22397485,\n",
       "       167638.27512897, 164757.02909175, 156058.79932926, 201525.270484  ,\n",
       "       197043.33220388, 202812.63573467, 166943.50658099, 126646.930798  ,\n",
       "       145841.61480011, 178277.769952  , 161603.32480042, 152653.07115288,\n",
       "       141754.74098845, 165281.51123091, 140610.41632118, 158238.46536215,\n",
       "       159089.89740625, 159491.77333106, 158361.0715765 , 166412.21298547,\n",
       "       144649.60993837, 152816.54610534, 189148.85429102, 172658.31846096,\n",
       "       176915.47868144, 181955.95638249, 196927.53744588, 176138.97265723,\n",
       "       144615.55265661, 185320.81582076, 173366.70992165, 181056.84414393,\n",
       "       187732.07136964, 185695.44592016, 146658.98956244, 174483.7887635 ,\n",
       "       163006.48480909, 164484.57083764, 189387.25526336, 185225.45543182,\n",
       "       152775.67736723, 167638.27512897, 172058.91030192, 135120.38250085,\n",
       "       156058.79932926, 141114.46409129, 209229.02761898, 134057.79530982,\n",
       "       160540.73760939, 152755.24299817, 166957.12949369, 162086.93820146,\n",
       "       186185.87077756, 166275.98385842, 194209.76636112, 195469.88578639,\n",
       "       165492.66637785, 170274.30873749, 181152.20453287, 210707.11364753,\n",
       "       180096.42879819, 179401.6602502 , 160315.95954974, 160813.1958635 ,\n",
       "       146658.98956244, 167944.79066485, 169627.22038398, 177787.3450946 ,\n",
       "       170362.85767008, 173121.49749295, 191321.70886755, 187023.67990895,\n",
       "       183154.77270058, 209760.3212145 , 159662.05973988, 170301.5545629 ,\n",
       "       141277.93904375, 170281.12019385, 173087.44021119, 162189.11004676,\n",
       "       152183.08066454, 166275.98385842, 177365.03480073, 125407.2457418 ,\n",
       "       158449.62050909, 174701.75536679, 161153.76868113, 163013.29626544,\n",
       "       119685.62240547, 156671.83040101, 215032.38843154, 133022.4539442 ,\n",
       "       171330.08447217, 171384.57612299, 134861.54715944, 147067.67694361,\n",
       "       165022.67588951, 170090.39941597, 198357.94327996, 117846.52919023,\n",
       "       158102.23623509, 177998.50024153, 148804.59831356, 162611.42034063,\n",
       "       162189.11004676, 158613.09546155, 180409.75579041, 189543.91875948,\n",
       "       178802.25209116, 162699.96927321, 170608.07009878, 122873.38397857,\n",
       "       151971.9255176 , 154791.86844765, 175812.02275229, 148579.82025392,\n",
       "       173904.81497352, 126646.930798  , 136789.18930728, 211306.52180658,\n",
       "       154015.36242343, 204140.86972346, 145841.61480011, 139030.15844734,\n",
       "       178536.6052934 , 137327.29435915, 168258.11765707, 162495.62558263,\n",
       "       198153.59958938, 154015.36242343, 174906.09905738, 152319.30979159,\n",
       "       161467.09567336, 166848.14619205, 181329.30239804, 180988.7295804 ,\n",
       "       166957.12949369, 157816.15506828, 188133.94729445, 125495.79467439,\n",
       "       154914.474662  , 172011.23010745, 166562.06502523, 146658.98956244,\n",
       "       135181.68560802, 211183.91559223, 189271.46050537, 178938.48121822,\n",
       "       157761.66341746, 188106.70146904, 186710.35291673])"
      ]
     },
     "execution_count": 199,
     "metadata": {},
     "output_type": "execute_result"
    }
   ],
   "source": [
    "y_predict"
   ]
  },
  {
   "cell_type": "code",
   "execution_count": 200,
   "metadata": {},
   "outputs": [
    {
     "data": {
      "text/plain": [
       "<matplotlib.axes._subplots.AxesSubplot at 0x21ecdfcbec8>"
      ]
     },
     "execution_count": 200,
     "metadata": {},
     "output_type": "execute_result"
    },
    {
     "data": {
      "image/png": "[encoded data removed]",
      "text/plain": [
       "<Figure size 720x360 with 1 Axes>"
      ]
     },
     "metadata": {
      "needs_background": "light"
     },
     "output_type": "display_data"
    }
   ],
   "source": [
    "rent.boxplot(figsize=(10,5))"
   ]
  },
  {
   "cell_type": "code",
   "execution_count": 201,
   "metadata": {},
   "outputs": [
    {
     "data": {
      "text/plain": [
       "<matplotlib.axes._subplots.AxesSubplot at 0x21ece029588>"
      ]
     },
     "execution_count": 201,
     "metadata": {},
     "output_type": "execute_result"
    },
    {
     "data": {
      "image/png": "[encoded data removed]",
      "text/plain": [
       "<Figure size 432x288 with 1 Axes>"
      ]
     },
     "metadata": {
      "needs_background": "light"
     },
     "output_type": "display_data"
    }
   ],
   "source": [
    "rent.LotArea.plot(kind=\"box\")"
   ]
  },
  {
   "cell_type": "code",
   "execution_count": 239,
   "metadata": {},
   "outputs": [
    {
     "data": {
      "text/plain": [
       "<matplotlib.collections.PathCollection at 0x21ecfe7ee08>"
      ]
     },
     "execution_count": 239,
     "metadata": {},
     "output_type": "execute_result"
    },
    {
     "data": {
      "image/png": "[encoded data removed]",
      "text/plain": [
       "<Figure size 432x288 with 1 Axes>"
      ]
     },
     "metadata": {
      "needs_background": "light"
     },
     "output_type": "display_data"
    }
   ],
   "source": [
    "plt.scatter(rent.LotArea,rent.SalePrice,color='Black',edgecolors='Yellow')"
   ]
  },
  {
   "cell_type": "code",
   "execution_count": 218,
   "metadata": {},
   "outputs": [
    {
     "ename": "AttributeError",
     "evalue": "'function' object has no attribute 'info'",
     "output_type": "error",
     "traceback": [
      "\u001b[1;31m---------------------------------------------------------------------------\u001b[0m",
      "\u001b[1;31mAttributeError\u001b[0m                            Traceback (most recent call last)",
      "\u001b[1;32m<ipython-input-218-496263dd7d0f>\u001b[0m in \u001b[0;36m<module>\u001b[1;34m\u001b[0m\n\u001b[1;32m----> 1\u001b[1;33m \u001b[0mplt\u001b[0m\u001b[1;33m.\u001b[0m\u001b[0mscatter\u001b[0m\u001b[1;33m.\u001b[0m\u001b[0minfo\u001b[0m\u001b[1;33m(\u001b[0m\u001b[1;33m)\u001b[0m\u001b[1;33m\u001b[0m\u001b[1;33m\u001b[0m\u001b[0m\n\u001b[0m",
      "\u001b[1;31mAttributeError\u001b[0m: 'function' object has no attribute 'info'"
     ]
    }
   ],
   "source": [
    "plt.scatter.info()"
   ]
  },
  {
   "cell_type": "code",
   "execution_count": null,
   "metadata": {},
   "outputs": [],
   "source": []
  }
 ],
 "metadata": {
  "kernelspec": {
   "display_name": "Python 3",
   "language": "python",
   "name": "python3"
  },
  "language_info": {
   "codemirror_mode": {
    "name": "ipython",
    "version": 3
   },
   "file_extension": ".py",
   "mimetype": "text/x-python",
   "name": "python",
   "nbconvert_exporter": "python",
   "pygments_lexer": "ipython3",
   "version": "3.7.4"
  }
 },
 "nbformat": 4,
 "nbformat_minor": 2
}
